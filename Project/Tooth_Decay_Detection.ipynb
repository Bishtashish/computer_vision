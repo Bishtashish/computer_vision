{
  "nbformat": 4,
  "nbformat_minor": 0,
  "metadata": {
    "colab": {
      "name": "Tooth Decay Detection",
      "private_outputs": true,
      "provenance": [],
      "collapsed_sections": []
    },
    "kernelspec": {
      "name": "python3",
      "display_name": "Python 3"
    },
    "accelerator": "GPU"
  },
  "cells": [
    {
      "cell_type": "markdown",
      "metadata": {
        "id": "eemunXDVZbIk"
      },
      "source": [
        "Tooth Decay Detection\n",
        "\n",
        "\n",
        "\n",
        "Sample Data Category wise\n",
        "\n",
        "[Sample Data Drive Link](https://https://drive.google.com/file/d/1_Yn2cnjfZhZ-HruCN7wN_m6u720oK2zW/view?usp=sharing)"
      ]
    },
    {
      "cell_type": "code",
      "metadata": {
        "id": "dhNG0TcfhJHB"
      },
      "source": [
        "from google.colab import drive\n",
        "drive.mount('/content/drive')\n",
        "from zipfile import ZipFile\n",
        "from io import StringIO\n",
        "import math\n",
        "import cv2\n",
        "from IPython.core.display import display, HTML\n",
        "import matplotlib.pyplot as plt\n",
        "import numpy as np\n",
        "import pandas as pd\n",
        "from fastai.vision.all import *\n"
      ],
      "execution_count": null,
      "outputs": []
    },
    {
      "cell_type": "code",
      "metadata": {
        "id": "sk0WLRPlaQrP"
      },
      "source": [
        "\n",
        "fileName = '/content/drive/MyDrive/UFBA_UESC_DENTAL_IMAGES.zip'\n",
        "# zip_ref = ZipFile(\"/content/drive/MyDrive/UFBA_UESC_DENTAL_IMAGES.zip\", 'r')\n",
        "# zip_ref.extractall(\"/tmp\")\n",
        "# zip_ref.close()\n",
        "\n",
        "# print(filename)\n",
        "\n",
        "\n",
        "with ZipFile(fileName, 'r') as zip: \n",
        "    # printing all the contents of the zip file \n",
        "  zip.printdir() \n",
        "  \n",
        "    # extracting all the files \n",
        "    # print('Extracting all the files now...') \n",
        "    # zip.extractall() \n",
        "    # print('Done!') \n",
        "\n",
        "\n",
        "# imgzip = open(fileName)\n",
        "# zippedImgs = ZipFile(fileName, 'r')\n",
        "\n",
        "\n",
        "\n",
        "  num_cols = 7\n",
        "  num_rows = int(math.ceil(len(zip.namelist())/num_cols))\n",
        "  fig = plt.figure(0, (24,num_rows))\n",
        "  for i in range(len(zip.namelist())):\n",
        "    # if (\".bmp\" in zip or \".BMP\" in zip):\n",
        "    print(zip.namelist()[i])\n",
        "    data = zip.read(zip.namelist()[i])\n",
        "    \n",
        "    img = cv2.imdecode(np.frombuffer(data, np.uint8), 1) \n",
        "    im = cv2.resize(img, (30,30)) \n",
        "    fig.add_subplot(num_rows, num_cols, i+1)\n",
        "    imshow(im)\n",
        "\n",
        "\n",
        "\n",
        "\n",
        "  # file_in_zip = zippedImgs.namelist()[i]\n",
        "  # if (\".bmp\" in file_in_zip or \".BMP\" in file_in_zip):\n",
        "  #   data = zippedImgs.read(file_in_zip)\n",
        "  #   # dataEnc = StringIO(data)\n",
        "  #   # im = imread(dataEnc)\n",
        "  #   im = imread(data)\n",
        "  #   im = cv2.resize(im_full, (30,30)) \n",
        "  #   fig.add_subplot(num_rows, num_cols, i+1)\n",
        "  #   imshow(im)\n",
        "\n",
        "# for i in xrange(len(zippedImgs.namelist())):\n",
        "#     # print \"iter\", i, \" \",\n",
        "#     file_in_zip = zippedImgs.namelist()[i]\n",
        "#     if (\".jpg\" in file_in_zip or \".JPG\" in file_in_zip):\n",
        "#         # print \"Found image: \", file_in_zip, \" -- \",\n",
        "#         data = zippedImgs.read(file_in_zip)\n",
        "#         dataEnc = StringIO(data)\n",
        "#         img = Image.open(dataEnc)\n",
        "#         # print img\n",
        "#     else:\n",
        "#         # print \"\"\n"
      ],
      "execution_count": null,
      "outputs": []
    },
    {
      "cell_type": "code",
      "metadata": {
        "id": "HmzcIolXg2aT"
      },
      "source": [
        ""
      ],
      "execution_count": null,
      "outputs": []
    },
    {
      "cell_type": "code",
      "metadata": {
        "id": "oNtMNykZRWjA"
      },
      "source": [
        ""
      ],
      "execution_count": null,
      "outputs": []
    }
  ]
}